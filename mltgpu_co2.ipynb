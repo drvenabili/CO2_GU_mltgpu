{
 "cells": [
  {
   "cell_type": "markdown",
   "metadata": {},
   "source": [
    "## This notebook will estimate CO2 emissions for a workload on mltgpu\n",
    "\n",
    "Below is the info from Robert Adesam, notebook by Simon Hengchen.\n",
    "\n",
    "Run the last cell with your own values.\n",
    "\n",
    "- CPU: 2x Intel® Xeon® Processor E5-2640 v4 https://ark.intel.com/content/www/us/en/ark/products/92984/intel-xeon-processor-e5-2640-v4-25m-cache-2-40-ghz.html\n",
    "- GPU: 4x Nvidia GeForce GTX 1080ti https://www.nvidia.com/en-sg/geforce/products/10series/geforce-gtx-1080-ti/\n",
    "- Motherboard: ASUSTeK Z10PE-D8 WS\n",
    "- Memory: 8x 32GB ECC DDR4 RDIMM 2133MHz\n",
    "- Storage: \n",
    "    - 2x Seagate Barracuda ST2000DM006 (data disks in raid1)\n",
    "    - Samsung 960EVO NVMe M.2 (scratch disk for doing GPU compute snapshots) \n",
    "    - Samsung 860 pro (system disk)\n",
    "    - User homes are NFS shares, **TBD**"
   ]
  },
  {
   "cell_type": "code",
   "execution_count": 85,
   "metadata": {},
   "outputs": [],
   "source": [
    "# TDP in watt per device\n",
    "\n",
    "TPD_device = {\"CPU\" : 90,\n",
    "              \"GPU\" : 250,\n",
    "              \"RAM\" : 5, # guesstimate\n",
    "              \"HDD\" : 12.5, # guesstimate of 12.5W per 7200 rpm\n",
    "              \"SSD\" : 0.5, # biggest value here https://www.anandtech.com/show/12408/the-samsung-860-evo-m2-2tb-ssd-review/\n",
    "}"
   ]
  },
  {
   "cell_type": "code",
   "execution_count": 86,
   "metadata": {},
   "outputs": [],
   "source": [
    "def calculate_draw(CPU=1, GPU=0):\n",
    "    \"\"\"\n",
    "    Will calculate and return TDP in Watts. We consider the RAM to be always utilised.\n",
    "    \"\"\"\n",
    "    RAM = 8\n",
    "    HDD = 2\n",
    "    SSD = 1\n",
    "    \n",
    "    if GPU > 0:\n",
    "        SSD = 2 # one of the SSDs is scratch for GPU\n",
    "    \"\"\"\n",
    "    print(\"CPU\", CPU)\n",
    "    print(\"GPU\", GPU)\n",
    "    print(\"RAM\", RAM)\n",
    "    print(\"HDD\", HDD)\n",
    "    print(\"SSD\", SSD)\n",
    "    \"\"\"\n",
    "    TDP = CPU * TPD_device[\"CPU\"] + \\\n",
    "        GPU * TPD_device[\"GPU\"] + \\\n",
    "        RAM * TPD_device[\"RAM\"] + \\\n",
    "        HDD * TPD_device[\"HDD\"] + \\\n",
    "        SSD * TPD_device[\"SSD\"]\n",
    "    return TDP"
   ]
  },
  {
   "cell_type": "code",
   "execution_count": 87,
   "metadata": {},
   "outputs": [],
   "source": [
    "def calculate_co2(TDP, hours):\n",
    "    \"\"\"\n",
    "    Based on data for Sweden from https://www.rensmart.com/Calculators/KWH-to-CO2, will calculate co2 emissions in kg\n",
    "    \"\"\"\n",
    "    kWh = TDP / 1000 * hours\n",
    "    CO2 =  kWh * 0.013 # (0.013 is the CO2 kg per kWh)\n",
    "    return CO2"
   ]
  },
  {
   "cell_type": "code",
   "execution_count": 88,
   "metadata": {},
   "outputs": [],
   "source": [
    "def print_paris(value_done):\n",
    "    \"\"\"\n",
    "    Takes a float between 0 and 1 and outputs a progress bar\n",
    "    \"\"\"\n",
    "    print(\"☠️☠️☠️ [{0:80s}] {1:.1f}% ☠️☠️☠️\".format('☁️' * int(value_done * 50), value_done * 100))"
   ]
  },
  {
   "cell_type": "code",
   "execution_count": 89,
   "metadata": {},
   "outputs": [],
   "source": [
    "def co2_to_bananas(CO2):\n",
    "    \"\"\"\n",
    "    Will convert CO2 emissions in kg to Netflix usage, banana usage, avocado usage, etc.\n",
    "    ## DISCLAIMER: I have not checked in details whether the \"co2 to ..\" figures are absolutely correct (for Sweden or elsewhere)\n",
    "    \"\"\"\n",
    "    paris_agreement = CO2/2000  # every human should spend around 2 tonnes a year max; here i consider tonne as metric tonne https://www.vox.com/22291568/climate-change-carbon-footprint-greta-thunberg-un-emissions-gap-report\n",
    "    bananas = CO2/0.08 # 1 banana is 80g https://www.theguardian.com/environment/green-living-blog/2010/jul/01/carbon-footprint-banana\n",
    "    netflix_hour = CO2/0.036 # 1 hour of netflix is 36g https://www.carbonbrief.org/factcheck-what-is-the-carbon-footprint-of-streaming-video-on-netflix\n",
    "    km_driven = CO2/0.185 # 5km = 0.925 https://www.carbonbrief.org/factcheck-what-is-the-carbon-footprint-of-streaming-video-on-netflix\n",
    "    avocados = CO2/0.423 # 2 avocados from Mexico = 846.36g https://www.weforum.org/agenda/2020/02/avocado-environment-cost-food-mexico/\n",
    "    \n",
    "    print(\"CO2 usage is estimated to be\", str(round(CO2,3))+\" kg\", \"and equivalent to:\")\n",
    "    print(\"===================\")\n",
    "    print(round(bananas,3), \"bananas\")\n",
    "    print(round(netflix_hour,3), \"hours on Netflix if your TV doesn't consume any electricity\")\n",
    "    print(round(km_driven,3), \"kilometers driven\")\n",
    "    print(round(avocados,3), \"avocados from Mexico\")\n",
    "    print()\n",
    "    print(round(paris_agreement*100,3), \"% of your yearly Paris Agreement share\")\n",
    "    print_paris(paris_agreement)"
   ]
  },
  {
   "cell_type": "code",
   "execution_count": 91,
   "metadata": {},
   "outputs": [
    {
     "name": "stdout",
     "output_type": "stream",
     "text": [
      "CO2 usage is estimated to be 25.917 kg and equivalent to:\n",
      "===================\n",
      "323.96 bananas\n",
      "719.911 hours on Netflix if your TV doesn't consume any electricity\n",
      "140.091 kilometers driven\n",
      "61.269 avocados from Mexico\n",
      "\n",
      "1.296 % of your yearly Paris Agreement share\n",
      "☠️☠️☠️ [                                                                                ] 1.3% ☠️☠️☠️\n"
     ]
    }
   ],
   "source": [
    "## Change values in calculate_draw() (#CPU, #GPU) and in calculate_co2 (# of hours)\n",
    "\n",
    "TDP = calculate_draw(2,4)\n",
    "CO2 = calculate_co2(TDP, 1600)\n",
    "co2_to_bananas(CO2)"
   ]
  },
  {
   "cell_type": "code",
   "execution_count": null,
   "metadata": {},
   "outputs": [],
   "source": []
  },
  {
   "cell_type": "code",
   "execution_count": null,
   "metadata": {},
   "outputs": [],
   "source": []
  },
  {
   "cell_type": "code",
   "execution_count": null,
   "metadata": {},
   "outputs": [],
   "source": []
  }
 ],
 "metadata": {
  "kernelspec": {
   "display_name": "Python 3",
   "language": "python",
   "name": "python3"
  },
  "language_info": {
   "codemirror_mode": {
    "name": "ipython",
    "version": 3
   },
   "file_extension": ".py",
   "mimetype": "text/x-python",
   "name": "python",
   "nbconvert_exporter": "python",
   "pygments_lexer": "ipython3",
   "version": "3.7.3"
  }
 },
 "nbformat": 4,
 "nbformat_minor": 2
}
